{
 "cells": [
  {
   "cell_type": "markdown",
   "metadata": {},
   "source": [
    "### 1. Import libraries"
   ]
  },
  {
   "cell_type": "code",
   "execution_count": 1,
   "metadata": {},
   "outputs": [],
   "source": [
    "import pandas as pd\n",
    "import numpy as np\n",
    "from sklearn.model_selection import train_test_split\n",
    "from sklearn.feature_extraction.text import TfidfVectorizer\n",
    "from sklearn.svm import LinearSVC\n",
    "from sklearn.metrics import classification_report\n",
    "import jieba\n",
    "import matplotlib.pyplot as plt\n",
    "import seaborn as sns\n",
    "import os\n",
    "import joblib"
   ]
  },
  {
   "cell_type": "markdown",
   "metadata": {},
   "source": [
    "### 2. Load data and preprocess"
   ]
  },
  {
   "cell_type": "code",
   "execution_count": 2,
   "metadata": {},
   "outputs": [
    {
     "name": "stderr",
     "output_type": "stream",
     "text": [
      "Building prefix dict from the default dictionary ...\n",
      "Loading model from cache /tmp/jieba.cache\n",
      "Loading model cost 0.295 seconds.\n",
      "Prefix dict has been built successfully.\n"
     ]
    }
   ],
   "source": [
    "def preprocess_text(text):\n",
    "    words = jieba.cut(text)\n",
    "    return ' '.join(words)\n",
    "\n",
    "def convert_sentiment(score):\n",
    "    if score == -2:\n",
    "        return 'not_mentioned'\n",
    "    elif score == -1:\n",
    "        return 'negative'\n",
    "    elif score == 0:\n",
    "        return 'neutral'\n",
    "    else:  # score == 1\n",
    "        return 'positive'\n",
    "\n",
    "def load_and_preprocess_data(file_path):\n",
    "    df = pd.read_csv(file_path)\n",
    "    \n",
    "    # Define aspects, e.g. Food#Appearance, Service#Price, etc.\n",
    "    aspect_columns = [col for col in df.columns if col not in ['id', 'review', 'star']]\n",
    "    y = df[aspect_columns]\n",
    "\n",
    "    # Convert sentiment scores to categorical labels\n",
    "    y = df[aspect_columns].astype('object')\n",
    "    for col in y.columns:\n",
    "        y.loc[:, col] = y[col].apply(convert_sentiment)\n",
    "\n",
    "    # Data preprocessing\n",
    "    df['processed_review'] = df['review'].apply(preprocess_text)\n",
    "    \n",
    "    return df['processed_review'], y, aspect_columns\n",
    "\n",
    "train_path = \"../data/train.csv\"\n",
    "dev_path = \"../data/dev.csv\"\n",
    "test_path = \"../data/test.csv\"\n",
    "\n",
    "X_train, y_train, aspect_columns = load_and_preprocess_data(train_path)\n",
    "X_dev, y_dev, _ = load_and_preprocess_data(dev_path)\n",
    "X_test, y_test, _ = load_and_preprocess_data(test_path)"
   ]
  },
  {
   "cell_type": "code",
   "execution_count": 49,
   "metadata": {},
   "outputs": [
    {
     "name": "stdout",
     "output_type": "stream",
     "text": [
      "Train shape: (36850,), (36850, 18)\n",
      "Dev shape: (4940,), (4940, 18)\n",
      "Test shape: (4940,), (4940, 18)\n",
      "\n",
      "Example of training data:\n",
      "Review: 状元 楼 饭店 第一次 去 ， 因为 地, Labels: {'Location#Transportation': 'positive', 'Location#Downtown': 'positive', 'Location#Easy_to_find': 'positive', 'Service#Queue': 'not_mentioned', 'Service#Hospitality': 'positive', 'Service#Parking': 'not_mentioned', 'Service#Timely': 'not_mentioned', 'Price#Level': 'not_mentioned', 'Price#Cost_effective': 'not_mentioned', 'Price#Discount': 'not_mentioned', 'Ambience#Decoration': 'positive', 'Ambience#Noise': 'not_mentioned', 'Ambience#Space': 'not_mentioned', 'Ambience#Sanitary': 'not_mentioned', 'Food#Portion': 'not_mentioned', 'Food#Taste': 'positive', 'Food#Appearance': 'not_mentioned', 'Food#Recommend': 'not_mentioned'}\n",
      "Review: 我 最 爱 他们 家 的 猪手 ， 麻辣, Labels: {'Location#Transportation': 'positive', 'Location#Downtown': 'not_mentioned', 'Location#Easy_to_find': 'not_mentioned', 'Service#Queue': 'not_mentioned', 'Service#Hospitality': 'positive', 'Service#Parking': 'not_mentioned', 'Service#Timely': 'not_mentioned', 'Price#Level': 'not_mentioned', 'Price#Cost_effective': 'not_mentioned', 'Price#Discount': 'not_mentioned', 'Ambience#Decoration': 'not_mentioned', 'Ambience#Noise': 'not_mentioned', 'Ambience#Space': 'not_mentioned', 'Ambience#Sanitary': 'positive', 'Food#Portion': 'not_mentioned', 'Food#Taste': 'positive', 'Food#Appearance': 'not_mentioned', 'Food#Recommend': 'not_mentioned'}\n",
      "Review: 我 是 比较 喜欢 荣 新馆 的 ， 因, Labels: {'Location#Transportation': 'not_mentioned', 'Location#Downtown': 'not_mentioned', 'Location#Easy_to_find': 'not_mentioned', 'Service#Queue': 'not_mentioned', 'Service#Hospitality': 'positive', 'Service#Parking': 'not_mentioned', 'Service#Timely': 'not_mentioned', 'Price#Level': 'neutral', 'Price#Cost_effective': 'not_mentioned', 'Price#Discount': 'not_mentioned', 'Ambience#Decoration': 'not_mentioned', 'Ambience#Noise': 'not_mentioned', 'Ambience#Space': 'not_mentioned', 'Ambience#Sanitary': 'not_mentioned', 'Food#Portion': 'not_mentioned', 'Food#Taste': 'neutral', 'Food#Appearance': 'positive', 'Food#Recommend': 'not_mentioned'}\n",
      "Review: 8.8 秒杀 的 多嘴 肉蟹 煲 ， 第, Labels: {'Location#Transportation': 'not_mentioned', 'Location#Downtown': 'not_mentioned', 'Location#Easy_to_find': 'not_mentioned', 'Service#Queue': 'negative', 'Service#Hospitality': 'positive', 'Service#Parking': 'not_mentioned', 'Service#Timely': 'not_mentioned', 'Price#Level': 'neutral', 'Price#Cost_effective': 'not_mentioned', 'Price#Discount': 'positive', 'Ambience#Decoration': 'not_mentioned', 'Ambience#Noise': 'not_mentioned', 'Ambience#Space': 'not_mentioned', 'Ambience#Sanitary': 'not_mentioned', 'Food#Portion': 'positive', 'Food#Taste': 'positive', 'Food#Appearance': 'not_mentioned', 'Food#Recommend': 'not_mentioned'}\n",
      "Review: 喜欢 KOI 好多年 了 ， 但是 看着, Labels: {'Location#Transportation': 'not_mentioned', 'Location#Downtown': 'positive', 'Location#Easy_to_find': 'negative', 'Service#Queue': 'not_mentioned', 'Service#Hospitality': 'not_mentioned', 'Service#Parking': 'not_mentioned', 'Service#Timely': 'not_mentioned', 'Price#Level': 'positive', 'Price#Cost_effective': 'not_mentioned', 'Price#Discount': 'positive', 'Ambience#Decoration': 'not_mentioned', 'Ambience#Noise': 'not_mentioned', 'Ambience#Space': 'not_mentioned', 'Ambience#Sanitary': 'not_mentioned', 'Food#Portion': 'positive', 'Food#Taste': 'positive', 'Food#Appearance': 'not_mentioned', 'Food#Recommend': 'not_mentioned'}\n"
     ]
    }
   ],
   "source": [
    "print(f\"Train shape: {X_train.shape}, {y_train.shape}\")\n",
    "print(f\"Dev shape: {X_dev.shape}, {y_dev.shape}\")\n",
    "print(f\"Test shape: {X_test.shape}, {y_test.shape}\\n\")\n",
    "\n",
    "# print example of training data\n",
    "print(\"Example of training data:\")\n",
    "for i in range(5):\n",
    "    print(f\"Review: {X_train.iloc[i][:20]}, Labels: {y_train.iloc[i].to_dict()}\")"
   ]
  },
  {
   "cell_type": "markdown",
   "metadata": {},
   "source": [
    "### 3. Exploratory data analysis"
   ]
  },
  {
   "cell_type": "code",
   "execution_count": 64,
   "metadata": {},
   "outputs": [],
   "source": [
    "# Create a subdirectory for EDA plots\n",
    "OUTPUT_DIR = \"eda_plots\"\n",
    "os.makedirs(OUTPUT_DIR, exist_ok=True)\n",
    "\n",
    "# Bar plot colors for sentiment categories\n",
    "SENTIMENTS = ['not_mentioned', 'negative', 'neutral', 'positive']\n",
    "SENTIMENT_COLORS = {\n",
    "    'not_mentioned': '#808080',  # Gray\n",
    "    'negative': '#FF0000',       # Red\n",
    "    'neutral': '#1F77B4',        # Blue\n",
    "    'positive': '#2CA02C'        # Green\n",
    "}\n",
    "\n",
    "def annotate_bars(ax):\n",
    "    \"\"\"Annotate bars with their heights, skipping zero-height bars.\"\"\"\n",
    "    for p in ax.patches:\n",
    "        if p.get_height() > 0:\n",
    "            ax.annotate(f'{int(p.get_height())}', \n",
    "                        (p.get_x() + p.get_width() / 2., p.get_height()), \n",
    "                        ha='center', va='bottom', xytext=(0, 5), textcoords='offset points')\n",
    "\n",
    "def perform_eda(y, dataset_name):\n",
    "    \n",
    "    # 1. Aspect Mention Frequency\n",
    "    mention_freq = (y != 'not_mentioned').mean()\n",
    "    plt.figure(figsize=(12, 6))\n",
    "    ax = sns.barplot(x=mention_freq.index, y=mention_freq.values)\n",
    "    plt.title(f\"Aspect Mention Frequency in {dataset_name} Dataset\")\n",
    "    plt.xticks(rotation=45, ha='right')\n",
    "    plt.ylabel(\"Proportion of Reviews Mentioning Aspect\")\n",
    "    annotate_bars(ax)\n",
    "    plt.tight_layout()\n",
    "    plt.savefig(os.path.join(OUTPUT_DIR, f\"aspect_mention_frequency_{dataset_name}.png\"))\n",
    "    plt.close()\n",
    "    \n",
    "    # 2. Sentiment Distribution for Each Aspect with fixed order and colors\n",
    "    for aspect in y.columns:\n",
    "        plt.figure(figsize=(8, 6))\n",
    "        ax = sns.countplot(data=y, x=aspect, order=SENTIMENTS, hue=aspect, palette=SENTIMENT_COLORS, legend=False)\n",
    "        plt.title(f\"Sentiment Distribution for {aspect} in {dataset_name} Dataset\")\n",
    "        plt.xlabel(\"Sentiment\")\n",
    "        plt.ylabel(\"Count\")\n",
    "        annotate_bars(ax) \n",
    "        plt.savefig(os.path.join(OUTPUT_DIR, f\"sentiment_distribution_{aspect}_{dataset_name}.png\"))\n",
    "        plt.close()\n",
    "    \n",
    "    # 3. Distribution of Number of Aspects Mentioned per Review\n",
    "    num_aspects_mentioned = (y != 'not_mentioned').sum(axis=1)\n",
    "    plt.figure(figsize=(10, 6))\n",
    "    ax = sns.histplot(num_aspects_mentioned, bins=range(0, len(y.columns)+1), kde=False)\n",
    "    plt.title(f\"Distribution of Number of Aspects Mentioned per Review in {dataset_name} Dataset\")\n",
    "    plt.xlabel(\"Number of Aspects Mentioned\")\n",
    "    plt.ylabel(\"Number of Reviews\")\n",
    "    annotate_bars(ax)\n",
    "    plt.savefig(os.path.join(OUTPUT_DIR, f\"num_aspects_mentioned_{dataset_name}.png\"))\n",
    "    plt.close()\n",
    "    \n",
    "    # 4. Summary Statistics\n",
    "    print(f\"{dataset_name.capitalize()}\")\n",
    "    print(f\"Total reviews: {len(y)}\")\n",
    "    avg_mentions = num_aspects_mentioned.mean()\n",
    "    print(f\"Average number of aspects mentioned per review: {avg_mentions:.2f}\\n\")"
   ]
  },
  {
   "cell_type": "code",
   "execution_count": 65,
   "metadata": {},
   "outputs": [
    {
     "name": "stdout",
     "output_type": "stream",
     "text": [
      "Train\n",
      "Total reviews: 36850\n",
      "Average number of aspects mentioned per review: 5.79\n",
      "\n",
      "Dev\n",
      "Total reviews: 4940\n",
      "Average number of aspects mentioned per review: 5.89\n",
      "\n",
      "Test\n",
      "Total reviews: 4940\n",
      "Average number of aspects mentioned per review: 5.74\n",
      "\n"
     ]
    }
   ],
   "source": [
    "perform_eda(y_train, \"train\")\n",
    "perform_eda(y_dev, \"dev\")\n",
    "perform_eda(y_test, \"test\")"
   ]
  },
  {
   "cell_type": "code",
   "execution_count": null,
   "metadata": {},
   "outputs": [],
   "source": []
  }
 ],
 "metadata": {
  "kernelspec": {
   "display_name": "Python 3",
   "language": "python",
   "name": "python3"
  },
  "language_info": {
   "codemirror_mode": {
    "name": "ipython",
    "version": 3
   },
   "file_extension": ".py",
   "mimetype": "text/x-python",
   "name": "python",
   "nbconvert_exporter": "python",
   "pygments_lexer": "ipython3",
   "version": "3.12.9"
  }
 },
 "nbformat": 4,
 "nbformat_minor": 2
}
